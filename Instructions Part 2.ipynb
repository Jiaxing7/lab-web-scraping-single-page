{
 "cells": [
  {
   "cell_type": "code",
   "execution_count": 2,
   "id": "b5d790ce",
   "metadata": {},
   "outputs": [],
   "source": [
    "import requests\n",
    "from bs4 import BeautifulSoup\n",
    "import pandas as pd"
   ]
  },
  {
   "cell_type": "markdown",
   "id": "3b461bd9",
   "metadata": {},
   "source": [
    "#### Retrieve an arbitrary Wikipedia page of \"Python\" and create a list of links on that page: url ='https://en.wikipedia.org/wiki/Python'"
   ]
  },
  {
   "cell_type": "code",
   "execution_count": 3,
   "id": "21862803",
   "metadata": {},
   "outputs": [],
   "source": [
    "url ='https://en.wikipedia.org/wiki/Python'"
   ]
  },
  {
   "cell_type": "code",
   "execution_count": 4,
   "id": "96f8766b",
   "metadata": {},
   "outputs": [
    {
     "data": {
      "text/plain": [
       "200"
      ]
     },
     "execution_count": 4,
     "metadata": {},
     "output_type": "execute_result"
    }
   ],
   "source": [
    "response = requests.get(url)\n",
    "response.status_code"
   ]
  },
  {
   "cell_type": "code",
   "execution_count": 5,
   "id": "f77da779",
   "metadata": {},
   "outputs": [],
   "source": [
    "soup = BeautifulSoup(response.content, \"html.parser\")"
   ]
  },
  {
   "cell_type": "code",
   "execution_count": null,
   "id": "4e192106",
   "metadata": {},
   "outputs": [],
   "source": [
    "#mw-content-text > div.mw-parser-output\n",
    "#mw-content-text > div.mw-parser-output > ul:nth-child(7)\n",
    "#Snakes"
   ]
  },
  {
   "cell_type": "code",
   "execution_count": 9,
   "id": "e1f3f86f",
   "metadata": {},
   "outputs": [
    {
     "data": {
      "text/plain": [
       "[<ul><li><a href=\"/wiki/Pythonidae\" title=\"Pythonidae\">Pythonidae</a>, a family of nonvenomous snakes found in Africa, Asia, and Australia\n",
       " <ul><li><a href=\"/wiki/Python_(genus)\" title=\"Python (genus)\"><i>Python</i> (genus)</a>, a genus of Pythonidae found in Africa and Asia</li></ul></li>\n",
       " <li><a href=\"/wiki/Python_(mythology)\" title=\"Python (mythology)\">Python (mythology)</a>, a mythical serpent</li></ul>]"
      ]
     },
     "execution_count": 9,
     "metadata": {},
     "output_type": "execute_result"
    }
   ],
   "source": [
    "soup.select(\"#mw-content-text > div.mw-parser-output > ul:nth-child(7)\")"
   ]
  },
  {
   "cell_type": "code",
   "execution_count": null,
   "id": "5fd85c5f",
   "metadata": {},
   "outputs": [],
   "source": []
  },
  {
   "cell_type": "markdown",
   "id": "a78beea1",
   "metadata": {},
   "source": [
    "#### Find the number of titles that have changed in the United States Code since its last release point: url = 'http://uscode.house.gov/download/download.shtml'"
   ]
  },
  {
   "cell_type": "code",
   "execution_count": 11,
   "id": "e9395977",
   "metadata": {},
   "outputs": [],
   "source": [
    "url = 'http://uscode.house.gov/download/download.shtml'"
   ]
  },
  {
   "cell_type": "code",
   "execution_count": 12,
   "id": "5e24af05",
   "metadata": {},
   "outputs": [
    {
     "data": {
      "text/plain": [
       "200"
      ]
     },
     "execution_count": 12,
     "metadata": {},
     "output_type": "execute_result"
    }
   ],
   "source": [
    "response = requests.get(url)\n",
    "response.status_code"
   ]
  },
  {
   "cell_type": "code",
   "execution_count": 13,
   "id": "6fbb80ef",
   "metadata": {},
   "outputs": [],
   "source": [
    "soup = BeautifulSoup(response.content, \"html.parser\")"
   ]
  },
  {
   "cell_type": "code",
   "execution_count": 26,
   "id": "d8885f2a",
   "metadata": {},
   "outputs": [
    {
     "data": {
      "text/plain": [
       "55"
      ]
     },
     "execution_count": 26,
     "metadata": {},
     "output_type": "execute_result"
    }
   ],
   "source": [
    "#content > div > div > div.uscitemlist\n",
    "#content > div > div > div.uscitemlist > div:nth-child(4)\n",
    "#us\\/usc\\/t1\n",
    "#us\\/usc\\/t2\n",
    "len(soup.select(\".usctitle\"))"
   ]
  },
  {
   "cell_type": "code",
   "execution_count": null,
   "id": "5a6c8297",
   "metadata": {},
   "outputs": [],
   "source": []
  },
  {
   "cell_type": "markdown",
   "id": "251e33f4",
   "metadata": {},
   "source": [
    "#### Create a Python list with the top ten FBI's Most Wanted names: url = 'https://www.fbi.gov/wanted/topten'"
   ]
  },
  {
   "cell_type": "code",
   "execution_count": 27,
   "id": "02865fb0",
   "metadata": {},
   "outputs": [],
   "source": [
    "url = 'https://www.fbi.gov/wanted/topten'"
   ]
  },
  {
   "cell_type": "code",
   "execution_count": 28,
   "id": "c8fbffac",
   "metadata": {},
   "outputs": [
    {
     "data": {
      "text/plain": [
       "200"
      ]
     },
     "execution_count": 28,
     "metadata": {},
     "output_type": "execute_result"
    }
   ],
   "source": [
    "response = requests.get(url)\n",
    "response.status_code"
   ]
  },
  {
   "cell_type": "code",
   "execution_count": 29,
   "id": "ea2964b0",
   "metadata": {},
   "outputs": [],
   "source": [
    "soup = BeautifulSoup(response.content, \"html.parser\")"
   ]
  },
  {
   "cell_type": "code",
   "execution_count": null,
   "id": "bf0b3070",
   "metadata": {},
   "outputs": [],
   "source": [
    "#query-results-0f737222c5054a81a120bce207b0446a > ul > li:nth-child(1) > h3 > a\n",
    "#query-results-0f737222c5054a81a120bce207b0446a > ul > li:nth-child(2) > h3 > a"
   ]
  },
  {
   "cell_type": "code",
   "execution_count": 31,
   "id": "fabe6544",
   "metadata": {},
   "outputs": [
    {
     "data": {
      "text/plain": [
       "'OMAR ALEXANDER CARDENAS'"
      ]
     },
     "execution_count": 31,
     "metadata": {},
     "output_type": "execute_result"
    }
   ],
   "source": [
    "soup.select(\"h3 > a\")[0].get_text()"
   ]
  },
  {
   "cell_type": "code",
   "execution_count": 33,
   "id": "7c9e4e56",
   "metadata": {},
   "outputs": [
    {
     "data": {
      "text/plain": [
       "10"
      ]
     },
     "execution_count": 33,
     "metadata": {},
     "output_type": "execute_result"
    }
   ],
   "source": [
    "len(soup.select(\"h3 > a\"))"
   ]
  },
  {
   "cell_type": "code",
   "execution_count": 34,
   "id": "f90a0867",
   "metadata": {},
   "outputs": [
    {
     "data": {
      "text/html": [
       "<div>\n",
       "<style scoped>\n",
       "    .dataframe tbody tr th:only-of-type {\n",
       "        vertical-align: middle;\n",
       "    }\n",
       "\n",
       "    .dataframe tbody tr th {\n",
       "        vertical-align: top;\n",
       "    }\n",
       "\n",
       "    .dataframe thead th {\n",
       "        text-align: right;\n",
       "    }\n",
       "</style>\n",
       "<table border=\"1\" class=\"dataframe\">\n",
       "  <thead>\n",
       "    <tr style=\"text-align: right;\">\n",
       "      <th></th>\n",
       "      <th>name</th>\n",
       "    </tr>\n",
       "  </thead>\n",
       "  <tbody>\n",
       "    <tr>\n",
       "      <th>0</th>\n",
       "      <td>OMAR ALEXANDER CARDENAS</td>\n",
       "    </tr>\n",
       "    <tr>\n",
       "      <th>1</th>\n",
       "      <td>ALEXIS FLORES</td>\n",
       "    </tr>\n",
       "    <tr>\n",
       "      <th>2</th>\n",
       "      <td>BHADRESHKUMAR CHETANBHAI PATEL</td>\n",
       "    </tr>\n",
       "    <tr>\n",
       "      <th>3</th>\n",
       "      <td>ALEJANDRO ROSALES CASTILLO</td>\n",
       "    </tr>\n",
       "    <tr>\n",
       "      <th>4</th>\n",
       "      <td>YULAN ADONAY ARCHAGA CARIAS</td>\n",
       "    </tr>\n",
       "    <tr>\n",
       "      <th>5</th>\n",
       "      <td>RUJA IGNATOVA</td>\n",
       "    </tr>\n",
       "    <tr>\n",
       "      <th>6</th>\n",
       "      <td>ARNOLDO JIMENEZ</td>\n",
       "    </tr>\n",
       "    <tr>\n",
       "      <th>7</th>\n",
       "      <td>MICHAEL JAMES PRATT</td>\n",
       "    </tr>\n",
       "    <tr>\n",
       "      <th>8</th>\n",
       "      <td>JOSE RODOLFO VILLARREAL-HERNANDEZ</td>\n",
       "    </tr>\n",
       "    <tr>\n",
       "      <th>9</th>\n",
       "      <td>RAFAEL CARO-QUINTERO</td>\n",
       "    </tr>\n",
       "  </tbody>\n",
       "</table>\n",
       "</div>"
      ],
      "text/plain": [
       "                                name\n",
       "0            OMAR ALEXANDER CARDENAS\n",
       "1                      ALEXIS FLORES\n",
       "2     BHADRESHKUMAR CHETANBHAI PATEL\n",
       "3         ALEJANDRO ROSALES CASTILLO\n",
       "4        YULAN ADONAY ARCHAGA CARIAS\n",
       "5                      RUJA IGNATOVA\n",
       "6                    ARNOLDO JIMENEZ\n",
       "7                MICHAEL JAMES PRATT\n",
       "8  JOSE RODOLFO VILLARREAL-HERNANDEZ\n",
       "9               RAFAEL CARO-QUINTERO"
      ]
     },
     "execution_count": 34,
     "metadata": {},
     "output_type": "execute_result"
    }
   ],
   "source": [
    "name = []\n",
    "\n",
    "\n",
    "num_iter = len(soup.select(\"h3 > a\"))\n",
    "\n",
    "for i in range(num_iter):\n",
    "    name.append(soup.select(\"h3 > a\")[i].get_text())\n",
    "    \n",
    "\n",
    "df = pd.DataFrame({\"name\":name})\n",
    "df"
   ]
  },
  {
   "cell_type": "code",
   "execution_count": null,
   "id": "a5c83efa",
   "metadata": {},
   "outputs": [],
   "source": []
  },
  {
   "cell_type": "markdown",
   "id": "6e1bbb8b",
   "metadata": {},
   "source": [
    "#### Display the 20 latest earthquakes info (date, time, latitude, longitude and region name) by the EMSC as a pandas dataframe: url = 'https://www.emsc-csem.org/Earthquake/'"
   ]
  },
  {
   "cell_type": "code",
   "execution_count": 53,
   "id": "34e42bdd",
   "metadata": {},
   "outputs": [],
   "source": [
    "url = 'https://www.emsc-csem.org/Earthquake/'"
   ]
  },
  {
   "cell_type": "code",
   "execution_count": 54,
   "id": "b0d9e20a",
   "metadata": {},
   "outputs": [
    {
     "data": {
      "text/plain": [
       "200"
      ]
     },
     "execution_count": 54,
     "metadata": {},
     "output_type": "execute_result"
    }
   ],
   "source": [
    "response = requests.get(url)\n",
    "response.status_code"
   ]
  },
  {
   "cell_type": "code",
   "execution_count": 55,
   "id": "269bd36e",
   "metadata": {},
   "outputs": [],
   "source": [
    "soup = BeautifulSoup(response.content, \"html.parser\")"
   ]
  },
  {
   "cell_type": "code",
   "execution_count": 56,
   "id": "cc3a4ab8",
   "metadata": {},
   "outputs": [],
   "source": [
    "#\\31 242802 > td.tabev6 > b > a\n",
    "#\\31 242802 > td:nth-child(5)\n",
    "#\\31 242802 > td:nth-child(6)\n",
    "#\\31 242802 > td:nth-child(7)\n",
    "#\\31 242802 > td:nth-child(8)\n",
    "#\\31 242802\n",
    "#reg0"
   ]
  },
  {
   "cell_type": "code",
   "execution_count": 57,
   "id": "25add15d",
   "metadata": {},
   "outputs": [
    {
     "data": {
      "text/plain": [
       "'2023-03-27\\xa0\\xa0\\xa022:23:03.3'"
      ]
     },
     "execution_count": 57,
     "metadata": {},
     "output_type": "execute_result"
    }
   ],
   "source": [
    "soup.select(\"b > a\")[0].get_text()"
   ]
  },
  {
   "cell_type": "code",
   "execution_count": 61,
   "id": "cdd1c4b5",
   "metadata": {},
   "outputs": [
    {
     "data": {
      "text/plain": [
       "'41.66\\xa0'"
      ]
     },
     "execution_count": 61,
     "metadata": {},
     "output_type": "execute_result"
    }
   ],
   "source": [
    "soup.select(\"td.tabev1\")[0].get_text()"
   ]
  },
  {
   "cell_type": "code",
   "execution_count": 62,
   "id": "3caf5d9e",
   "metadata": {},
   "outputs": [
    {
     "data": {
      "text/plain": [
       "'N\\xa0\\xa0'"
      ]
     },
     "execution_count": 62,
     "metadata": {},
     "output_type": "execute_result"
    }
   ],
   "source": [
    "soup.select(\"td.tabev2\")[0].get_text()"
   ]
  },
  {
   "cell_type": "code",
   "execution_count": 67,
   "id": "e3da9aa6",
   "metadata": {},
   "outputs": [
    {
     "data": {
      "text/plain": [
       "'\\xa0SOUTHERN ITALY'"
      ]
     },
     "execution_count": 67,
     "metadata": {},
     "output_type": "execute_result"
    }
   ],
   "source": [
    "soup.select(\"td.tb_region\")[0].get_text()"
   ]
  },
  {
   "cell_type": "code",
   "execution_count": 68,
   "id": "ad78486a",
   "metadata": {},
   "outputs": [
    {
     "data": {
      "text/plain": [
       "51"
      ]
     },
     "execution_count": 68,
     "metadata": {},
     "output_type": "execute_result"
    }
   ],
   "source": [
    "len(soup.select(\"b > a\"))"
   ]
  },
  {
   "cell_type": "code",
   "execution_count": null,
   "id": "e7ab58e1",
   "metadata": {},
   "outputs": [],
   "source": [
    "date_time = []\n",
    "latitude = []\n",
    "longitude = []\n",
    "region_name = []\n",
    "\n",
    "\n",
    "num_iter = len(soup.select(\"b > a\"))\n",
    "\n",
    "for i in range(num_iter):\n",
    "    date_time.append(soup.select(\"b > a\")[i].get_text())\n",
    "    if i\n",
    "    latitude.append(soup.select(\"p > em\")[i].get_text())\n",
    "\n",
    "df = pd.DataFrame({\"song\":title,\"artist\":singer})\n",
    "df"
   ]
  },
  {
   "cell_type": "code",
   "execution_count": null,
   "id": "007f59f1",
   "metadata": {},
   "outputs": [],
   "source": []
  }
 ],
 "metadata": {
  "kernelspec": {
   "display_name": "Python 3 (ipykernel)",
   "language": "python",
   "name": "python3"
  },
  "language_info": {
   "codemirror_mode": {
    "name": "ipython",
    "version": 3
   },
   "file_extension": ".py",
   "mimetype": "text/x-python",
   "name": "python",
   "nbconvert_exporter": "python",
   "pygments_lexer": "ipython3",
   "version": "3.9.13"
  }
 },
 "nbformat": 4,
 "nbformat_minor": 5
}
