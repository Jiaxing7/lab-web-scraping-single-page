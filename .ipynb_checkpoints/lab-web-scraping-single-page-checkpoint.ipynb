{
 "cells": [
  {
   "cell_type": "code",
   "execution_count": 132,
   "id": "68a7da97",
   "metadata": {},
   "outputs": [],
   "source": [
    "import requests\n",
    "from bs4 import BeautifulSoup\n",
    "import pandas as pd"
   ]
  },
  {
   "cell_type": "code",
   "execution_count": 133,
   "id": "694b581f",
   "metadata": {},
   "outputs": [],
   "source": [
    "# body > div.container > div:nth-child(4) > div.col-xs-12.col-md-8 > div.chart-wrapper"
   ]
  },
  {
   "cell_type": "code",
   "execution_count": 134,
   "id": "bf464ae3",
   "metadata": {},
   "outputs": [],
   "source": [
    "url = \"https://www.popvortex.com/music/charts/top-100-songs.php\""
   ]
  },
  {
   "cell_type": "code",
   "execution_count": 135,
   "id": "67ab7c09",
   "metadata": {},
   "outputs": [
    {
     "data": {
      "text/plain": [
       "200"
      ]
     },
     "execution_count": 135,
     "metadata": {},
     "output_type": "execute_result"
    }
   ],
   "source": [
    "# 3. download html with a get request\n",
    "response = requests.get(url)\n",
    "response.status_code "
   ]
  },
  {
   "cell_type": "code",
   "execution_count": 136,
   "id": "be247d14",
   "metadata": {},
   "outputs": [],
   "source": [
    "# 4.1. parse html (create the 'soup')\n",
    "soup = BeautifulSoup(response.content, \"html.parser\")"
   ]
  },
  {
   "cell_type": "code",
   "execution_count": 327,
   "id": "dc8c0282",
   "metadata": {},
   "outputs": [],
   "source": [
    "#soup"
   ]
  },
  {
   "cell_type": "code",
   "execution_count": 328,
   "id": "3e84d1e1",
   "metadata": {},
   "outputs": [],
   "source": [
    "#soup.select(\"#chart-position-1 > div.chart-content.col-xs-12.col-sm-8\")"
   ]
  },
  {
   "cell_type": "code",
   "execution_count": 329,
   "id": "e9b71515",
   "metadata": {},
   "outputs": [],
   "source": [
    "#soup.select(\"div.chart-wrapper p\")"
   ]
  },
  {
   "cell_type": "code",
   "execution_count": 140,
   "id": "cc18fc95",
   "metadata": {},
   "outputs": [
    {
     "data": {
      "text/plain": [
       "'1'"
      ]
     },
     "execution_count": 140,
     "metadata": {},
     "output_type": "execute_result"
    }
   ],
   "source": [
    "soup.select(\"p.chart-position\")[0].get_text()"
   ]
  },
  {
   "cell_type": "code",
   "execution_count": 141,
   "id": "8d1b4fd9",
   "metadata": {},
   "outputs": [],
   "source": [
    "#chart-position-1 > div.chart-content.col-xs-12.col-sm-8 > p > cite"
   ]
  },
  {
   "cell_type": "code",
   "execution_count": 142,
   "id": "21ca5fe6",
   "metadata": {},
   "outputs": [
    {
     "data": {
      "text/plain": [
       "'Flowers'"
      ]
     },
     "execution_count": 142,
     "metadata": {},
     "output_type": "execute_result"
    }
   ],
   "source": [
    "soup.select(\"p.title-artist cite.title\")[0].get_text()"
   ]
  },
  {
   "cell_type": "code",
   "execution_count": 143,
   "id": "e58bc0f7",
   "metadata": {},
   "outputs": [],
   "source": [
    "#chart-position-1 > div.chart-content.col-xs-12.col-sm-8 > p > em"
   ]
  },
  {
   "cell_type": "code",
   "execution_count": 144,
   "id": "292414e2",
   "metadata": {},
   "outputs": [
    {
     "data": {
      "text/plain": [
       "'Miley Cyrus'"
      ]
     },
     "execution_count": 144,
     "metadata": {},
     "output_type": "execute_result"
    }
   ],
   "source": [
    "soup.select(\"p > em\")[0].get_text()"
   ]
  },
  {
   "cell_type": "code",
   "execution_count": 145,
   "id": "179a6cde",
   "metadata": {},
   "outputs": [
    {
     "data": {
      "text/html": [
       "<div>\n",
       "<style scoped>\n",
       "    .dataframe tbody tr th:only-of-type {\n",
       "        vertical-align: middle;\n",
       "    }\n",
       "\n",
       "    .dataframe tbody tr th {\n",
       "        vertical-align: top;\n",
       "    }\n",
       "\n",
       "    .dataframe thead th {\n",
       "        text-align: right;\n",
       "    }\n",
       "</style>\n",
       "<table border=\"1\" class=\"dataframe\">\n",
       "  <thead>\n",
       "    <tr style=\"text-align: right;\">\n",
       "      <th></th>\n",
       "      <th>song</th>\n",
       "      <th>artist</th>\n",
       "    </tr>\n",
       "  </thead>\n",
       "  <tbody>\n",
       "    <tr>\n",
       "      <th>0</th>\n",
       "      <td>Flowers</td>\n",
       "      <td>Miley Cyrus</td>\n",
       "    </tr>\n",
       "    <tr>\n",
       "      <th>1</th>\n",
       "      <td>Last Night</td>\n",
       "      <td>Morgan Wallen</td>\n",
       "    </tr>\n",
       "    <tr>\n",
       "      <th>2</th>\n",
       "      <td>Fast Car</td>\n",
       "      <td>Luke Combs</td>\n",
       "    </tr>\n",
       "    <tr>\n",
       "      <th>3</th>\n",
       "      <td>Like Crazy (Deep House Remix)</td>\n",
       "      <td>Jimin</td>\n",
       "    </tr>\n",
       "    <tr>\n",
       "      <th>4</th>\n",
       "      <td>Like Crazy (UK Garage Remix)</td>\n",
       "      <td>Jimin</td>\n",
       "    </tr>\n",
       "    <tr>\n",
       "      <th>...</th>\n",
       "      <td>...</td>\n",
       "      <td>...</td>\n",
       "    </tr>\n",
       "    <tr>\n",
       "      <th>95</th>\n",
       "      <td>Trump Won</td>\n",
       "      <td>Natasha Owens</td>\n",
       "    </tr>\n",
       "    <tr>\n",
       "      <th>96</th>\n",
       "      <td>Just Pretend</td>\n",
       "      <td>Bad Omens</td>\n",
       "    </tr>\n",
       "    <tr>\n",
       "      <th>97</th>\n",
       "      <td>I'm Good (Blue)</td>\n",
       "      <td>David Guetta &amp; Bebe Rexha</td>\n",
       "    </tr>\n",
       "    <tr>\n",
       "      <th>98</th>\n",
       "      <td>Pretty Little Poison</td>\n",
       "      <td>Warren Zeiders</td>\n",
       "    </tr>\n",
       "    <tr>\n",
       "      <th>99</th>\n",
       "      <td>Heaven</td>\n",
       "      <td>Niall Horan</td>\n",
       "    </tr>\n",
       "  </tbody>\n",
       "</table>\n",
       "<p>100 rows × 2 columns</p>\n",
       "</div>"
      ],
      "text/plain": [
       "                             song                     artist\n",
       "0                         Flowers                Miley Cyrus\n",
       "1                      Last Night              Morgan Wallen\n",
       "2                        Fast Car                 Luke Combs\n",
       "3   Like Crazy (Deep House Remix)                      Jimin\n",
       "4    Like Crazy (UK Garage Remix)                      Jimin\n",
       "..                            ...                        ...\n",
       "95                      Trump Won              Natasha Owens\n",
       "96                   Just Pretend                  Bad Omens\n",
       "97                I'm Good (Blue)  David Guetta & Bebe Rexha\n",
       "98           Pretty Little Poison             Warren Zeiders\n",
       "99                         Heaven                Niall Horan\n",
       "\n",
       "[100 rows x 2 columns]"
      ]
     },
     "execution_count": 145,
     "metadata": {},
     "output_type": "execute_result"
    }
   ],
   "source": [
    "title = []\n",
    "singer = []\n",
    "\n",
    "num_iter = len(soup.select(\"div.chart-content.col-xs-12.col-sm-8\"))\n",
    "\n",
    "for i in range(num_iter):\n",
    "    title.append(soup.select(\"p.title-artist cite.title\")[i].get_text())\n",
    "    singer.append(soup.select(\"p > em\")[i].get_text())\n",
    "\n",
    "df = pd.DataFrame({\"song\":title,\"artist\":singer})\n",
    "df"
   ]
  },
  {
   "cell_type": "markdown",
   "id": "b92216b1",
   "metadata": {},
   "source": [
    "## Instructions Part 1\n",
    "### Prioritize the MVP (Minimum Viable Product)"
   ]
  },
  {
   "cell_type": "code",
   "execution_count": 210,
   "id": "18a33b85",
   "metadata": {},
   "outputs": [],
   "source": [
    "url1 = \"https://en.wikipedia.org/wiki/List_of_Eurodance_songs\""
   ]
  },
  {
   "cell_type": "code",
   "execution_count": 211,
   "id": "ecec8690",
   "metadata": {},
   "outputs": [
    {
     "data": {
      "text/plain": [
       "200"
      ]
     },
     "execution_count": 211,
     "metadata": {},
     "output_type": "execute_result"
    }
   ],
   "source": [
    "# 3. download html with a get request\n",
    "response1 = requests.get(url1)\n",
    "response1.status_code"
   ]
  },
  {
   "cell_type": "code",
   "execution_count": 212,
   "id": "5fe448ba",
   "metadata": {},
   "outputs": [],
   "source": [
    "# 4.1. parse html (create the 'soup')\n",
    "soup1 = BeautifulSoup(response1.content, \"html.parser\")"
   ]
  },
  {
   "cell_type": "code",
   "execution_count": 349,
   "id": "27ee0100",
   "metadata": {},
   "outputs": [],
   "source": [
    "#mw-content-text > div.mw-parser-output\n",
    "#mw-content-text > div.mw-parser-output > table:nth-child(10) > tbody\n",
    "#soup1.select(\"#mw-content-text > div.mw-parser-output\")"
   ]
  },
  {
   "cell_type": "code",
   "execution_count": 171,
   "id": "be2a1bd6",
   "metadata": {},
   "outputs": [],
   "source": [
    "#mw-content-text > div.mw-parser-output > table:nth-child(10) > tbody > tr:nth-child(2) > td:nth-child(4)\n",
    "#mw-content-text > div.mw-parser-output > table:nth-child(10) > tbody > tr:nth-child(2) > td:nth-child(2)\n",
    "#mw-content-text > div.mw-parser-output > table:nth-child(14) > tbody > tr:nth-child(16) > td:nth-child(3)"
   ]
  },
  {
   "cell_type": "code",
   "execution_count": 214,
   "id": "72291c2e",
   "metadata": {},
   "outputs": [
    {
     "data": {
      "text/plain": [
       "[<td><a href=\"/wiki/Snap!\" title=\"Snap!\">Snap!</a></td>]"
      ]
     },
     "execution_count": 214,
     "metadata": {},
     "output_type": "execute_result"
    }
   ],
   "source": [
    "soup1.select(\"#mw-content-text > div.mw-parser-output > table:nth-child(10) > tbody > tr:nth-child(2) > td:nth-child(2)\")"
   ]
  },
  {
   "cell_type": "code",
   "execution_count": 217,
   "id": "faee9bee",
   "metadata": {},
   "outputs": [
    {
     "data": {
      "text/plain": [
       "'Black Box'"
      ]
     },
     "execution_count": 217,
     "metadata": {},
     "output_type": "execute_result"
    }
   ],
   "source": [
    "soup1.select(\"td:nth-child(2)\")[0].get_text()"
   ]
  },
  {
   "cell_type": "code",
   "execution_count": 218,
   "id": "ffb58d5a",
   "metadata": {},
   "outputs": [
    {
     "data": {
      "text/plain": [
       "'\"Ride On Time\"[1]\\n'"
      ]
     },
     "execution_count": 218,
     "metadata": {},
     "output_type": "execute_result"
    }
   ],
   "source": [
    "soup1.select(\"td:nth-child(4)\")[0].get_text()"
   ]
  },
  {
   "cell_type": "code",
   "execution_count": 229,
   "id": "0d8eb912",
   "metadata": {},
   "outputs": [
    {
     "data": {
      "text/plain": [
       "95"
      ]
     },
     "execution_count": 229,
     "metadata": {},
     "output_type": "execute_result"
    }
   ],
   "source": [
    "len(soup1.select(\"td:nth-child(2)\"))"
   ]
  },
  {
   "cell_type": "code",
   "execution_count": 251,
   "id": "a468a431",
   "metadata": {},
   "outputs": [
    {
     "data": {
      "text/html": [
       "<div>\n",
       "<style scoped>\n",
       "    .dataframe tbody tr th:only-of-type {\n",
       "        vertical-align: middle;\n",
       "    }\n",
       "\n",
       "    .dataframe tbody tr th {\n",
       "        vertical-align: top;\n",
       "    }\n",
       "\n",
       "    .dataframe thead th {\n",
       "        text-align: right;\n",
       "    }\n",
       "</style>\n",
       "<table border=\"1\" class=\"dataframe\">\n",
       "  <thead>\n",
       "    <tr style=\"text-align: right;\">\n",
       "      <th></th>\n",
       "      <th>song</th>\n",
       "      <th>artist</th>\n",
       "    </tr>\n",
       "  </thead>\n",
       "  <tbody>\n",
       "    <tr>\n",
       "      <th>0</th>\n",
       "      <td>\"Ride On Time\"[1]\\n</td>\n",
       "      <td>Black Box</td>\n",
       "    </tr>\n",
       "    <tr>\n",
       "      <th>1</th>\n",
       "      <td>\"Pump Up the Jam\"[2][3]\\n</td>\n",
       "      <td>Technotronic</td>\n",
       "    </tr>\n",
       "    <tr>\n",
       "      <th>2</th>\n",
       "      <td>\"The Power\"[4]\\n</td>\n",
       "      <td>Snap!</td>\n",
       "    </tr>\n",
       "    <tr>\n",
       "      <th>3</th>\n",
       "      <td>\"Get Ready for This\"[5]\\n</td>\n",
       "      <td>2 Unlimited</td>\n",
       "    </tr>\n",
       "    <tr>\n",
       "      <th>4</th>\n",
       "      <td>\"Crucified\"[6]\\n</td>\n",
       "      <td>Army of Lovers</td>\n",
       "    </tr>\n",
       "    <tr>\n",
       "      <th>...</th>\n",
       "      <td>...</td>\n",
       "      <td>...</td>\n",
       "    </tr>\n",
       "    <tr>\n",
       "      <th>90</th>\n",
       "      <td>\"Tacata'\"[93]\\n</td>\n",
       "      <td>Tacabro</td>\n",
       "    </tr>\n",
       "    <tr>\n",
       "      <th>91</th>\n",
       "      <td>\"All Around the World\"[94]\\n</td>\n",
       "      <td>Justin Bieber featuring Ludacris</td>\n",
       "    </tr>\n",
       "    <tr>\n",
       "      <th>92</th>\n",
       "      <td>\"Glorious\"[95]\\n</td>\n",
       "      <td>Cascada</td>\n",
       "    </tr>\n",
       "    <tr>\n",
       "      <th>93</th>\n",
       "      <td>\"Walking on Air\"[96]\\n</td>\n",
       "      <td>Katy Perry</td>\n",
       "    </tr>\n",
       "    <tr>\n",
       "      <th>94</th>\n",
       "      <td>\"One Kiss\"[97]\\n</td>\n",
       "      <td>Calvin Harris &amp; Dua Lipa</td>\n",
       "    </tr>\n",
       "  </tbody>\n",
       "</table>\n",
       "<p>95 rows × 2 columns</p>\n",
       "</div>"
      ],
      "text/plain": [
       "                            song                            artist\n",
       "0            \"Ride On Time\"[1]\\n                         Black Box\n",
       "1      \"Pump Up the Jam\"[2][3]\\n                      Technotronic\n",
       "2               \"The Power\"[4]\\n                             Snap!\n",
       "3      \"Get Ready for This\"[5]\\n                       2 Unlimited\n",
       "4               \"Crucified\"[6]\\n                    Army of Lovers\n",
       "..                           ...                               ...\n",
       "90               \"Tacata'\"[93]\\n                           Tacabro\n",
       "91  \"All Around the World\"[94]\\n  Justin Bieber featuring Ludacris\n",
       "92              \"Glorious\"[95]\\n                           Cascada\n",
       "93        \"Walking on Air\"[96]\\n                        Katy Perry\n",
       "94              \"One Kiss\"[97]\\n          Calvin Harris & Dua Lipa\n",
       "\n",
       "[95 rows x 2 columns]"
      ]
     },
     "execution_count": 251,
     "metadata": {},
     "output_type": "execute_result"
    }
   ],
   "source": [
    "title1 = []\n",
    "singer1 = []\n",
    "\n",
    "num_iter1 = len(soup1.select(\"td:nth-child(2)\"))\n",
    "\n",
    "for i in range(num_iter1):\n",
    "    title1.append(soup1.select(\"td:nth-child(4)\")[i].get_text())\n",
    "    singer1.append(soup1.select(\"td:nth-child(2)\")[i].get_text())\n"
   ]
  },
  {
   "cell_type": "code",
   "execution_count": 254,
   "id": "28e1231e",
   "metadata": {},
   "outputs": [
    {
     "data": {
      "text/html": [
       "<div>\n",
       "<style scoped>\n",
       "    .dataframe tbody tr th:only-of-type {\n",
       "        vertical-align: middle;\n",
       "    }\n",
       "\n",
       "    .dataframe tbody tr th {\n",
       "        vertical-align: top;\n",
       "    }\n",
       "\n",
       "    .dataframe thead th {\n",
       "        text-align: right;\n",
       "    }\n",
       "</style>\n",
       "<table border=\"1\" class=\"dataframe\">\n",
       "  <thead>\n",
       "    <tr style=\"text-align: right;\">\n",
       "      <th></th>\n",
       "      <th>song</th>\n",
       "      <th>artist</th>\n",
       "    </tr>\n",
       "  </thead>\n",
       "  <tbody>\n",
       "    <tr>\n",
       "      <th>0</th>\n",
       "      <td>Ride On Time</td>\n",
       "      <td>Black Box</td>\n",
       "    </tr>\n",
       "    <tr>\n",
       "      <th>1</th>\n",
       "      <td>Pump Up the Jam</td>\n",
       "      <td>Technotronic</td>\n",
       "    </tr>\n",
       "    <tr>\n",
       "      <th>2</th>\n",
       "      <td>The Power</td>\n",
       "      <td>Snap!</td>\n",
       "    </tr>\n",
       "    <tr>\n",
       "      <th>3</th>\n",
       "      <td>Get Ready for This</td>\n",
       "      <td>2 Unlimited</td>\n",
       "    </tr>\n",
       "    <tr>\n",
       "      <th>4</th>\n",
       "      <td>Crucified</td>\n",
       "      <td>Army of Lovers</td>\n",
       "    </tr>\n",
       "    <tr>\n",
       "      <th>...</th>\n",
       "      <td>...</td>\n",
       "      <td>...</td>\n",
       "    </tr>\n",
       "    <tr>\n",
       "      <th>90</th>\n",
       "      <td>Tacata'</td>\n",
       "      <td>Tacabro</td>\n",
       "    </tr>\n",
       "    <tr>\n",
       "      <th>91</th>\n",
       "      <td>All Around the World</td>\n",
       "      <td>Justin Bieber featuring Ludacris</td>\n",
       "    </tr>\n",
       "    <tr>\n",
       "      <th>92</th>\n",
       "      <td>Glorious</td>\n",
       "      <td>Cascada</td>\n",
       "    </tr>\n",
       "    <tr>\n",
       "      <th>93</th>\n",
       "      <td>Walking on Air</td>\n",
       "      <td>Katy Perry</td>\n",
       "    </tr>\n",
       "    <tr>\n",
       "      <th>94</th>\n",
       "      <td>One Kiss</td>\n",
       "      <td>Calvin Harris &amp; Dua Lipa</td>\n",
       "    </tr>\n",
       "  </tbody>\n",
       "</table>\n",
       "<p>95 rows × 2 columns</p>\n",
       "</div>"
      ],
      "text/plain": [
       "                    song                            artist\n",
       "0           Ride On Time                         Black Box\n",
       "1        Pump Up the Jam                      Technotronic\n",
       "2              The Power                             Snap!\n",
       "3     Get Ready for This                       2 Unlimited\n",
       "4              Crucified                    Army of Lovers\n",
       "..                   ...                               ...\n",
       "90               Tacata'                           Tacabro\n",
       "91  All Around the World  Justin Bieber featuring Ludacris\n",
       "92              Glorious                           Cascada\n",
       "93        Walking on Air                        Katy Perry\n",
       "94              One Kiss          Calvin Harris & Dua Lipa\n",
       "\n",
       "[95 rows x 2 columns]"
      ]
     },
     "execution_count": 254,
     "metadata": {},
     "output_type": "execute_result"
    }
   ],
   "source": [
    "for i in range(len(title1)):\n",
    "    title1[i] = title1[i].strip() \n",
    "    title1[i] = title1[i].replace('\"', '')  \n",
    "    title1[i] = title1[i].split('[')[0]  \n",
    "\n",
    "       \n",
    "df1 = pd.DataFrame({\"song\":title1,\"artist\":singer1})\n",
    "df1"
   ]
  },
  {
   "cell_type": "code",
   "execution_count": 257,
   "id": "57e30e1e",
   "metadata": {},
   "outputs": [
    {
     "data": {
      "text/html": [
       "<div>\n",
       "<style scoped>\n",
       "    .dataframe tbody tr th:only-of-type {\n",
       "        vertical-align: middle;\n",
       "    }\n",
       "\n",
       "    .dataframe tbody tr th {\n",
       "        vertical-align: top;\n",
       "    }\n",
       "\n",
       "    .dataframe thead th {\n",
       "        text-align: right;\n",
       "    }\n",
       "</style>\n",
       "<table border=\"1\" class=\"dataframe\">\n",
       "  <thead>\n",
       "    <tr style=\"text-align: right;\">\n",
       "      <th></th>\n",
       "      <th>song</th>\n",
       "      <th>artist</th>\n",
       "    </tr>\n",
       "  </thead>\n",
       "  <tbody>\n",
       "    <tr>\n",
       "      <th>0</th>\n",
       "      <td>Flowers</td>\n",
       "      <td>Miley Cyrus</td>\n",
       "    </tr>\n",
       "    <tr>\n",
       "      <th>1</th>\n",
       "      <td>Last Night</td>\n",
       "      <td>Morgan Wallen</td>\n",
       "    </tr>\n",
       "    <tr>\n",
       "      <th>2</th>\n",
       "      <td>Fast Car</td>\n",
       "      <td>Luke Combs</td>\n",
       "    </tr>\n",
       "    <tr>\n",
       "      <th>3</th>\n",
       "      <td>Like Crazy (Deep House Remix)</td>\n",
       "      <td>Jimin</td>\n",
       "    </tr>\n",
       "    <tr>\n",
       "      <th>4</th>\n",
       "      <td>Like Crazy (UK Garage Remix)</td>\n",
       "      <td>Jimin</td>\n",
       "    </tr>\n",
       "    <tr>\n",
       "      <th>...</th>\n",
       "      <td>...</td>\n",
       "      <td>...</td>\n",
       "    </tr>\n",
       "    <tr>\n",
       "      <th>90</th>\n",
       "      <td>Tacata'</td>\n",
       "      <td>Tacabro</td>\n",
       "    </tr>\n",
       "    <tr>\n",
       "      <th>91</th>\n",
       "      <td>All Around the World</td>\n",
       "      <td>Justin Bieber featuring Ludacris</td>\n",
       "    </tr>\n",
       "    <tr>\n",
       "      <th>92</th>\n",
       "      <td>Glorious</td>\n",
       "      <td>Cascada</td>\n",
       "    </tr>\n",
       "    <tr>\n",
       "      <th>93</th>\n",
       "      <td>Walking on Air</td>\n",
       "      <td>Katy Perry</td>\n",
       "    </tr>\n",
       "    <tr>\n",
       "      <th>94</th>\n",
       "      <td>One Kiss</td>\n",
       "      <td>Calvin Harris &amp; Dua Lipa</td>\n",
       "    </tr>\n",
       "  </tbody>\n",
       "</table>\n",
       "<p>195 rows × 2 columns</p>\n",
       "</div>"
      ],
      "text/plain": [
       "                             song                            artist\n",
       "0                         Flowers                       Miley Cyrus\n",
       "1                      Last Night                     Morgan Wallen\n",
       "2                        Fast Car                        Luke Combs\n",
       "3   Like Crazy (Deep House Remix)                             Jimin\n",
       "4    Like Crazy (UK Garage Remix)                             Jimin\n",
       "..                            ...                               ...\n",
       "90                        Tacata'                           Tacabro\n",
       "91           All Around the World  Justin Bieber featuring Ludacris\n",
       "92                       Glorious                           Cascada\n",
       "93                 Walking on Air                        Katy Perry\n",
       "94                       One Kiss          Calvin Harris & Dua Lipa\n",
       "\n",
       "[195 rows x 2 columns]"
      ]
     },
     "execution_count": 257,
     "metadata": {},
     "output_type": "execute_result"
    }
   ],
   "source": [
    "df1 = pd.concat([df,df1], axis=0)\n",
    "df1"
   ]
  },
  {
   "cell_type": "code",
   "execution_count": null,
   "id": "083009f1",
   "metadata": {},
   "outputs": [],
   "source": []
  },
  {
   "cell_type": "code",
   "execution_count": 273,
   "id": "7a91a6ac",
   "metadata": {},
   "outputs": [],
   "source": [
    "url2 = \"https://en.wikipedia.org/wiki/List_of_songs_in_Rock_Band\""
   ]
  },
  {
   "cell_type": "code",
   "execution_count": 274,
   "id": "df3b5acd",
   "metadata": {},
   "outputs": [
    {
     "data": {
      "text/plain": [
       "200"
      ]
     },
     "execution_count": 274,
     "metadata": {},
     "output_type": "execute_result"
    }
   ],
   "source": [
    "response2 = requests.get(url2)\n",
    "response2.status_code"
   ]
  },
  {
   "cell_type": "code",
   "execution_count": 275,
   "id": "3d252394",
   "metadata": {},
   "outputs": [],
   "source": [
    "soup2 = BeautifulSoup(response2.content, \"html.parser\")"
   ]
  },
  {
   "cell_type": "code",
   "execution_count": null,
   "id": "c6723953",
   "metadata": {},
   "outputs": [],
   "source": [
    "#mw-content-text > div.mw-parser-output > table:nth-child(11) > tbody > tr:nth-child(1) > td:nth-child(1) > b > a\n",
    "#mw-content-text > div.mw-parser-output > table:nth-child(11) > tbody > tr:nth-child(1) > td:nth-child(2)\n",
    "#mw-content-text > div.mw-parser-output > table:nth-child(11) > tbody > tr:nth-child(10) > td:nth-child(2)"
   ]
  },
  {
   "cell_type": "code",
   "execution_count": 304,
   "id": "033e313c",
   "metadata": {},
   "outputs": [
    {
     "data": {
      "text/plain": [
       "'\"Are You Gonna Be My Girl\"\\n'"
      ]
     },
     "execution_count": 304,
     "metadata": {},
     "output_type": "execute_result"
    }
   ],
   "source": [
    "soup2.select(\"td:nth-child(1)\")[0].get_text()"
   ]
  },
  {
   "cell_type": "code",
   "execution_count": 278,
   "id": "c3511c9e",
   "metadata": {},
   "outputs": [
    {
     "data": {
      "text/plain": [
       "'Jet\\n'"
      ]
     },
     "execution_count": 278,
     "metadata": {},
     "output_type": "execute_result"
    }
   ],
   "source": [
    "soup2.select(\"td:nth-child(2)\")[0].get_text()"
   ]
  },
  {
   "cell_type": "code",
   "execution_count": 305,
   "id": "bb2c79ee",
   "metadata": {},
   "outputs": [
    {
     "data": {
      "text/plain": [
       "73"
      ]
     },
     "execution_count": 305,
     "metadata": {},
     "output_type": "execute_result"
    }
   ],
   "source": [
    "len(soup2.select(\"td:nth-child(1)\"))"
   ]
  },
  {
   "cell_type": "code",
   "execution_count": 306,
   "id": "38ca2f78",
   "metadata": {},
   "outputs": [],
   "source": [
    "title2 = []\n",
    "singer2 = []\n",
    "\n",
    "num_iter2 = len(soup2.select(\"td:nth-child(1)\"))\n",
    "\n",
    "for i in range(num_iter2):\n",
    "    title2.append(soup2.select(\"td:nth-child(1)\")[i].get_text())\n",
    "    singer2.append(soup2.select(\"td:nth-child(2)\")[i].get_text())\n"
   ]
  },
  {
   "cell_type": "code",
   "execution_count": 309,
   "id": "49b9fbc6",
   "metadata": {},
   "outputs": [
    {
     "data": {
      "text/html": [
       "<div>\n",
       "<style scoped>\n",
       "    .dataframe tbody tr th:only-of-type {\n",
       "        vertical-align: middle;\n",
       "    }\n",
       "\n",
       "    .dataframe tbody tr th {\n",
       "        vertical-align: top;\n",
       "    }\n",
       "\n",
       "    .dataframe thead th {\n",
       "        text-align: right;\n",
       "    }\n",
       "</style>\n",
       "<table border=\"1\" class=\"dataframe\">\n",
       "  <thead>\n",
       "    <tr style=\"text-align: right;\">\n",
       "      <th></th>\n",
       "      <th>song</th>\n",
       "      <th>artist</th>\n",
       "    </tr>\n",
       "  </thead>\n",
       "  <tbody>\n",
       "    <tr>\n",
       "      <th>0</th>\n",
       "      <td>Are You Gonna Be My Girl</td>\n",
       "      <td>Jet</td>\n",
       "    </tr>\n",
       "    <tr>\n",
       "      <th>1</th>\n",
       "      <td>Ballroom Blitz</td>\n",
       "      <td>Sweet</td>\n",
       "    </tr>\n",
       "    <tr>\n",
       "      <th>2</th>\n",
       "      <td>Black Hole Sun</td>\n",
       "      <td>Soundgarden</td>\n",
       "    </tr>\n",
       "    <tr>\n",
       "      <th>3</th>\n",
       "      <td>Blitzkrieg Bop</td>\n",
       "      <td>Ramones</td>\n",
       "    </tr>\n",
       "    <tr>\n",
       "      <th>4</th>\n",
       "      <td>Celebrity Skin</td>\n",
       "      <td>Hole</td>\n",
       "    </tr>\n",
       "    <tr>\n",
       "      <th>...</th>\n",
       "      <td>...</td>\n",
       "      <td>...</td>\n",
       "    </tr>\n",
       "    <tr>\n",
       "      <th>68</th>\n",
       "      <td>Monsoon</td>\n",
       "      <td>Tokio Hotel</td>\n",
       "    </tr>\n",
       "    <tr>\n",
       "      <th>69</th>\n",
       "      <td>New Wave</td>\n",
       "      <td>Pleymo</td>\n",
       "    </tr>\n",
       "    <tr>\n",
       "      <th>70</th>\n",
       "      <td>Perfekte Welle</td>\n",
       "      <td>Juli</td>\n",
       "    </tr>\n",
       "    <tr>\n",
       "      <th>71</th>\n",
       "      <td>Rock 'n' Roll Star</td>\n",
       "      <td>Oasis</td>\n",
       "    </tr>\n",
       "    <tr>\n",
       "      <th>72</th>\n",
       "      <td>Category</td>\n",
       "      <td>Rock BandsongsRock Band 2songsRock Band 3songs...</td>\n",
       "    </tr>\n",
       "  </tbody>\n",
       "</table>\n",
       "<p>73 rows × 2 columns</p>\n",
       "</div>"
      ],
      "text/plain": [
       "                        song  \\\n",
       "0   Are You Gonna Be My Girl   \n",
       "1             Ballroom Blitz   \n",
       "2             Black Hole Sun   \n",
       "3             Blitzkrieg Bop   \n",
       "4             Celebrity Skin   \n",
       "..                       ...   \n",
       "68                   Monsoon   \n",
       "69                  New Wave   \n",
       "70            Perfekte Welle   \n",
       "71        Rock 'n' Roll Star   \n",
       "72                  Category   \n",
       "\n",
       "                                               artist  \n",
       "0                                                 Jet  \n",
       "1                                               Sweet  \n",
       "2                                         Soundgarden  \n",
       "3                                             Ramones  \n",
       "4                                                Hole  \n",
       "..                                                ...  \n",
       "68                                        Tokio Hotel  \n",
       "69                                             Pleymo  \n",
       "70                                               Juli  \n",
       "71                                              Oasis  \n",
       "72  Rock BandsongsRock Band 2songsRock Band 3songs...  \n",
       "\n",
       "[73 rows x 2 columns]"
      ]
     },
     "execution_count": 309,
     "metadata": {},
     "output_type": "execute_result"
    }
   ],
   "source": [
    "for i in range(len(title2)):\n",
    "    title2[i] = title2[i].replace('\"', '').replace('\\n', '')    \n",
    "    \n",
    "for i in range(len(singer2)):\n",
    "    singer2[i] = singer2[i].replace('\\n', '')   \n",
    "       \n",
    "df2 = pd.DataFrame({\"song\":title2,\"artist\":singer2})\n",
    "df2"
   ]
  },
  {
   "cell_type": "code",
   "execution_count": 310,
   "id": "422c15f7",
   "metadata": {},
   "outputs": [
    {
     "data": {
      "text/html": [
       "<div>\n",
       "<style scoped>\n",
       "    .dataframe tbody tr th:only-of-type {\n",
       "        vertical-align: middle;\n",
       "    }\n",
       "\n",
       "    .dataframe tbody tr th {\n",
       "        vertical-align: top;\n",
       "    }\n",
       "\n",
       "    .dataframe thead th {\n",
       "        text-align: right;\n",
       "    }\n",
       "</style>\n",
       "<table border=\"1\" class=\"dataframe\">\n",
       "  <thead>\n",
       "    <tr style=\"text-align: right;\">\n",
       "      <th></th>\n",
       "      <th>song</th>\n",
       "      <th>artist</th>\n",
       "    </tr>\n",
       "  </thead>\n",
       "  <tbody>\n",
       "    <tr>\n",
       "      <th>0</th>\n",
       "      <td>Flowers</td>\n",
       "      <td>Miley Cyrus</td>\n",
       "    </tr>\n",
       "    <tr>\n",
       "      <th>1</th>\n",
       "      <td>Last Night</td>\n",
       "      <td>Morgan Wallen</td>\n",
       "    </tr>\n",
       "    <tr>\n",
       "      <th>2</th>\n",
       "      <td>Fast Car</td>\n",
       "      <td>Luke Combs</td>\n",
       "    </tr>\n",
       "    <tr>\n",
       "      <th>3</th>\n",
       "      <td>Like Crazy (Deep House Remix)</td>\n",
       "      <td>Jimin</td>\n",
       "    </tr>\n",
       "    <tr>\n",
       "      <th>4</th>\n",
       "      <td>Like Crazy (UK Garage Remix)</td>\n",
       "      <td>Jimin</td>\n",
       "    </tr>\n",
       "    <tr>\n",
       "      <th>...</th>\n",
       "      <td>...</td>\n",
       "      <td>...</td>\n",
       "    </tr>\n",
       "    <tr>\n",
       "      <th>68</th>\n",
       "      <td>Monsoon</td>\n",
       "      <td>Tokio Hotel</td>\n",
       "    </tr>\n",
       "    <tr>\n",
       "      <th>69</th>\n",
       "      <td>New Wave</td>\n",
       "      <td>Pleymo</td>\n",
       "    </tr>\n",
       "    <tr>\n",
       "      <th>70</th>\n",
       "      <td>Perfekte Welle</td>\n",
       "      <td>Juli</td>\n",
       "    </tr>\n",
       "    <tr>\n",
       "      <th>71</th>\n",
       "      <td>Rock 'n' Roll Star</td>\n",
       "      <td>Oasis</td>\n",
       "    </tr>\n",
       "    <tr>\n",
       "      <th>72</th>\n",
       "      <td>Category</td>\n",
       "      <td>Rock BandsongsRock Band 2songsRock Band 3songs...</td>\n",
       "    </tr>\n",
       "  </tbody>\n",
       "</table>\n",
       "<p>268 rows × 2 columns</p>\n",
       "</div>"
      ],
      "text/plain": [
       "                             song  \\\n",
       "0                         Flowers   \n",
       "1                      Last Night   \n",
       "2                        Fast Car   \n",
       "3   Like Crazy (Deep House Remix)   \n",
       "4    Like Crazy (UK Garage Remix)   \n",
       "..                            ...   \n",
       "68                        Monsoon   \n",
       "69                       New Wave   \n",
       "70                 Perfekte Welle   \n",
       "71             Rock 'n' Roll Star   \n",
       "72                       Category   \n",
       "\n",
       "                                               artist  \n",
       "0                                         Miley Cyrus  \n",
       "1                                       Morgan Wallen  \n",
       "2                                          Luke Combs  \n",
       "3                                               Jimin  \n",
       "4                                               Jimin  \n",
       "..                                                ...  \n",
       "68                                        Tokio Hotel  \n",
       "69                                             Pleymo  \n",
       "70                                               Juli  \n",
       "71                                              Oasis  \n",
       "72  Rock BandsongsRock Band 2songsRock Band 3songs...  \n",
       "\n",
       "[268 rows x 2 columns]"
      ]
     },
     "execution_count": 310,
     "metadata": {},
     "output_type": "execute_result"
    }
   ],
   "source": [
    "df1 = pd.concat([df1,df2], axis=0)\n",
    "df1"
   ]
  },
  {
   "cell_type": "code",
   "execution_count": null,
   "id": "62e09ae5",
   "metadata": {},
   "outputs": [],
   "source": []
  },
  {
   "cell_type": "code",
   "execution_count": 311,
   "id": "42885945",
   "metadata": {},
   "outputs": [],
   "source": [
    "url3 = \"https://en.wikipedia.org/wiki/List_of_rock_instrumentals\""
   ]
  },
  {
   "cell_type": "code",
   "execution_count": 312,
   "id": "8297c2a2",
   "metadata": {},
   "outputs": [
    {
     "data": {
      "text/plain": [
       "200"
      ]
     },
     "execution_count": 312,
     "metadata": {},
     "output_type": "execute_result"
    }
   ],
   "source": [
    "response3 = requests.get(url3)\n",
    "response3.status_code"
   ]
  },
  {
   "cell_type": "code",
   "execution_count": 313,
   "id": "d38f5d5e",
   "metadata": {},
   "outputs": [],
   "source": [
    "soup3 = BeautifulSoup(response3.content, \"html.parser\")"
   ]
  },
  {
   "cell_type": "code",
   "execution_count": null,
   "id": "d64f9cff",
   "metadata": {},
   "outputs": [],
   "source": [
    "#mw-content-text > div.mw-parser-output > table:nth-child(7) > tbody > tr:nth-child(1) > td:nth-child(2)\n",
    "#mw-content-text > div.mw-parser-output > table:nth-child(7) > tbody > tr:nth-child(1) > td:nth-child(1)"
   ]
  },
  {
   "cell_type": "code",
   "execution_count": 314,
   "id": "db0417b4",
   "metadata": {},
   "outputs": [
    {
     "data": {
      "text/plain": [
       "'Bill Justis\\n'"
      ]
     },
     "execution_count": 314,
     "metadata": {},
     "output_type": "execute_result"
    }
   ],
   "source": [
    "soup3.select(\"td:nth-child(1)\")[0].get_text()"
   ]
  },
  {
   "cell_type": "code",
   "execution_count": 315,
   "id": "6b4b7472",
   "metadata": {},
   "outputs": [
    {
     "data": {
      "text/plain": [
       "'\"Raunchy\"\\n'"
      ]
     },
     "execution_count": 315,
     "metadata": {},
     "output_type": "execute_result"
    }
   ],
   "source": [
    "soup3.select(\"td:nth-child(2)\")[0].get_text()"
   ]
  },
  {
   "cell_type": "code",
   "execution_count": 320,
   "id": "8d99272a",
   "metadata": {},
   "outputs": [
    {
     "data": {
      "text/plain": [
       "101"
      ]
     },
     "execution_count": 320,
     "metadata": {},
     "output_type": "execute_result"
    }
   ],
   "source": [
    "len(soup3.select(\"td:nth-child(1)\"))"
   ]
  },
  {
   "cell_type": "code",
   "execution_count": 323,
   "id": "7d77b247",
   "metadata": {},
   "outputs": [],
   "source": [
    "title3 = []\n",
    "singer3 = []\n",
    "\n",
    "num_iter3 = len(soup3.select(\"td:nth-child(1)\"))\n",
    "\n",
    "for i in range(num_iter3):\n",
    "    title3.append(soup3.select(\"td:nth-child(2)\")[i].get_text())\n",
    "    singer3.append(soup3.select(\"td:nth-child(1)\")[i].get_text())\n"
   ]
  },
  {
   "cell_type": "code",
   "execution_count": 325,
   "id": "395ec04b",
   "metadata": {},
   "outputs": [
    {
     "data": {
      "text/html": [
       "<div>\n",
       "<style scoped>\n",
       "    .dataframe tbody tr th:only-of-type {\n",
       "        vertical-align: middle;\n",
       "    }\n",
       "\n",
       "    .dataframe tbody tr th {\n",
       "        vertical-align: top;\n",
       "    }\n",
       "\n",
       "    .dataframe thead th {\n",
       "        text-align: right;\n",
       "    }\n",
       "</style>\n",
       "<table border=\"1\" class=\"dataframe\">\n",
       "  <thead>\n",
       "    <tr style=\"text-align: right;\">\n",
       "      <th></th>\n",
       "      <th>song</th>\n",
       "      <th>artist</th>\n",
       "    </tr>\n",
       "  </thead>\n",
       "  <tbody>\n",
       "    <tr>\n",
       "      <th>0</th>\n",
       "      <td>Raunchy</td>\n",
       "      <td>Bill Justis</td>\n",
       "    </tr>\n",
       "    <tr>\n",
       "      <th>1</th>\n",
       "      <td>Raunchy</td>\n",
       "      <td>Ernie Freeman</td>\n",
       "    </tr>\n",
       "    <tr>\n",
       "      <th>2</th>\n",
       "      <td>Tequila</td>\n",
       "      <td>The Champs</td>\n",
       "    </tr>\n",
       "    <tr>\n",
       "      <th>3</th>\n",
       "      <td>Moovin' N' Groovin'</td>\n",
       "      <td>Duane Eddy</td>\n",
       "    </tr>\n",
       "    <tr>\n",
       "      <th>4</th>\n",
       "      <td>El Rancho Rock</td>\n",
       "      <td>The Champs</td>\n",
       "    </tr>\n",
       "    <tr>\n",
       "      <th>...</th>\n",
       "      <td>...</td>\n",
       "      <td>...</td>\n",
       "    </tr>\n",
       "    <tr>\n",
       "      <th>96</th>\n",
       "      <td>A Fifth Of Beethoven</td>\n",
       "      <td>Walter Murphy</td>\n",
       "    </tr>\n",
       "    <tr>\n",
       "      <th>97</th>\n",
       "      <td>Theme from S.W.A.T.</td>\n",
       "      <td>Rhythm Heritage</td>\n",
       "    </tr>\n",
       "    <tr>\n",
       "      <th>98</th>\n",
       "      <td>Feels So Good</td>\n",
       "      <td>Chuck Mangione</td>\n",
       "    </tr>\n",
       "    <tr>\n",
       "      <th>99</th>\n",
       "      <td>‘'Rise’’</td>\n",
       "      <td>Herb Alpert</td>\n",
       "    </tr>\n",
       "    <tr>\n",
       "      <th>100</th>\n",
       "      <td>BackbeatDistortionRock bandElectric guitarElec...</td>\n",
       "      <td>CategoryPortal</td>\n",
       "    </tr>\n",
       "  </tbody>\n",
       "</table>\n",
       "<p>101 rows × 2 columns</p>\n",
       "</div>"
      ],
      "text/plain": [
       "                                                  song           artist\n",
       "0                                              Raunchy      Bill Justis\n",
       "1                                              Raunchy    Ernie Freeman\n",
       "2                                              Tequila       The Champs\n",
       "3                                  Moovin' N' Groovin'       Duane Eddy\n",
       "4                                       El Rancho Rock       The Champs\n",
       "..                                                 ...              ...\n",
       "96                                A Fifth Of Beethoven    Walter Murphy\n",
       "97                                 Theme from S.W.A.T.  Rhythm Heritage\n",
       "98                                       Feels So Good   Chuck Mangione\n",
       "99                                            ‘'Rise’’      Herb Alpert\n",
       "100  BackbeatDistortionRock bandElectric guitarElec...   CategoryPortal\n",
       "\n",
       "[101 rows x 2 columns]"
      ]
     },
     "execution_count": 325,
     "metadata": {},
     "output_type": "execute_result"
    }
   ],
   "source": [
    "for i in range(len(title3)):\n",
    "    title3[i] = title3[i].replace('\"', '').replace('\\n', '')    \n",
    "    \n",
    "for i in range(len(singer3)):\n",
    "    singer3[i] = singer3[i].replace('\\n', '')   \n",
    "       \n",
    "df3 = pd.DataFrame({\"song\":title3,\"artist\":singer3})\n",
    "df3"
   ]
  },
  {
   "cell_type": "code",
   "execution_count": 326,
   "id": "ddf1aed2",
   "metadata": {},
   "outputs": [
    {
     "data": {
      "text/html": [
       "<div>\n",
       "<style scoped>\n",
       "    .dataframe tbody tr th:only-of-type {\n",
       "        vertical-align: middle;\n",
       "    }\n",
       "\n",
       "    .dataframe tbody tr th {\n",
       "        vertical-align: top;\n",
       "    }\n",
       "\n",
       "    .dataframe thead th {\n",
       "        text-align: right;\n",
       "    }\n",
       "</style>\n",
       "<table border=\"1\" class=\"dataframe\">\n",
       "  <thead>\n",
       "    <tr style=\"text-align: right;\">\n",
       "      <th></th>\n",
       "      <th>song</th>\n",
       "      <th>artist</th>\n",
       "    </tr>\n",
       "  </thead>\n",
       "  <tbody>\n",
       "    <tr>\n",
       "      <th>0</th>\n",
       "      <td>Flowers</td>\n",
       "      <td>Miley Cyrus</td>\n",
       "    </tr>\n",
       "    <tr>\n",
       "      <th>1</th>\n",
       "      <td>Last Night</td>\n",
       "      <td>Morgan Wallen</td>\n",
       "    </tr>\n",
       "    <tr>\n",
       "      <th>2</th>\n",
       "      <td>Fast Car</td>\n",
       "      <td>Luke Combs</td>\n",
       "    </tr>\n",
       "    <tr>\n",
       "      <th>3</th>\n",
       "      <td>Like Crazy (Deep House Remix)</td>\n",
       "      <td>Jimin</td>\n",
       "    </tr>\n",
       "    <tr>\n",
       "      <th>4</th>\n",
       "      <td>Like Crazy (UK Garage Remix)</td>\n",
       "      <td>Jimin</td>\n",
       "    </tr>\n",
       "    <tr>\n",
       "      <th>...</th>\n",
       "      <td>...</td>\n",
       "      <td>...</td>\n",
       "    </tr>\n",
       "    <tr>\n",
       "      <th>96</th>\n",
       "      <td>A Fifth Of Beethoven</td>\n",
       "      <td>Walter Murphy</td>\n",
       "    </tr>\n",
       "    <tr>\n",
       "      <th>97</th>\n",
       "      <td>Theme from S.W.A.T.</td>\n",
       "      <td>Rhythm Heritage</td>\n",
       "    </tr>\n",
       "    <tr>\n",
       "      <th>98</th>\n",
       "      <td>Feels So Good</td>\n",
       "      <td>Chuck Mangione</td>\n",
       "    </tr>\n",
       "    <tr>\n",
       "      <th>99</th>\n",
       "      <td>‘'Rise’’</td>\n",
       "      <td>Herb Alpert</td>\n",
       "    </tr>\n",
       "    <tr>\n",
       "      <th>100</th>\n",
       "      <td>BackbeatDistortionRock bandElectric guitarElec...</td>\n",
       "      <td>CategoryPortal</td>\n",
       "    </tr>\n",
       "  </tbody>\n",
       "</table>\n",
       "<p>369 rows × 2 columns</p>\n",
       "</div>"
      ],
      "text/plain": [
       "                                                  song           artist\n",
       "0                                              Flowers      Miley Cyrus\n",
       "1                                           Last Night    Morgan Wallen\n",
       "2                                             Fast Car       Luke Combs\n",
       "3                        Like Crazy (Deep House Remix)            Jimin\n",
       "4                         Like Crazy (UK Garage Remix)            Jimin\n",
       "..                                                 ...              ...\n",
       "96                                A Fifth Of Beethoven    Walter Murphy\n",
       "97                                 Theme from S.W.A.T.  Rhythm Heritage\n",
       "98                                       Feels So Good   Chuck Mangione\n",
       "99                                            ‘'Rise’’      Herb Alpert\n",
       "100  BackbeatDistortionRock bandElectric guitarElec...   CategoryPortal\n",
       "\n",
       "[369 rows x 2 columns]"
      ]
     },
     "execution_count": 326,
     "metadata": {},
     "output_type": "execute_result"
    }
   ],
   "source": [
    "df1 = pd.concat([df1,df3], axis=0)\n",
    "df1"
   ]
  },
  {
   "cell_type": "code",
   "execution_count": null,
   "id": "79a80c39",
   "metadata": {},
   "outputs": [],
   "source": []
  },
  {
   "cell_type": "markdown",
   "id": "f64e8611",
   "metadata": {},
   "source": [
    "# recommender "
   ]
  },
  {
   "cell_type": "code",
   "execution_count": 347,
   "id": "d37f28b7",
   "metadata": {},
   "outputs": [
    {
     "name": "stdout",
     "output_type": "stream",
     "text": [
      "Please enter a song title: Flowers\n"
     ]
    }
   ],
   "source": [
    "song = input(\"Please enter a song title: \")"
   ]
  },
  {
   "cell_type": "code",
   "execution_count": 348,
   "id": "b2081d97",
   "metadata": {},
   "outputs": [
    {
     "name": "stdout",
     "output_type": "stream",
     "text": [
      "Here's a recommendation for you: golden hour by JVKE\n"
     ]
    }
   ],
   "source": [
    "if song in df1['song'].values:\n",
    "    recommendation = df1[df1['song'] != song].sample()\n",
    "    recommended_song = recommendation.iloc[0]['song']\n",
    "    recommended_artist = recommendation.iloc[0]['artist']\n",
    "    print(f\"Here's a recommendation for you: {recommended_song} by {recommended_artist}\")\n",
    "else:\n",
    "    print(\"Sorry, we don't have a recommendation at this time.\")"
   ]
  },
  {
   "cell_type": "code",
   "execution_count": null,
   "id": "4fa68358",
   "metadata": {},
   "outputs": [],
   "source": []
  },
  {
   "cell_type": "code",
   "execution_count": null,
   "id": "5f6ec80a",
   "metadata": {},
   "outputs": [],
   "source": []
  },
  {
   "cell_type": "code",
   "execution_count": null,
   "id": "8b2593c5",
   "metadata": {},
   "outputs": [],
   "source": []
  },
  {
   "cell_type": "code",
   "execution_count": null,
   "id": "7e81a72f",
   "metadata": {},
   "outputs": [],
   "source": []
  },
  {
   "cell_type": "code",
   "execution_count": null,
   "id": "dd84cc90",
   "metadata": {},
   "outputs": [],
   "source": []
  },
  {
   "cell_type": "code",
   "execution_count": null,
   "id": "06539209",
   "metadata": {},
   "outputs": [],
   "source": []
  },
  {
   "cell_type": "code",
   "execution_count": null,
   "id": "75db251b",
   "metadata": {},
   "outputs": [],
   "source": []
  },
  {
   "cell_type": "code",
   "execution_count": null,
   "id": "4091682b",
   "metadata": {},
   "outputs": [],
   "source": []
  },
  {
   "cell_type": "code",
   "execution_count": null,
   "id": "5320d75e",
   "metadata": {},
   "outputs": [],
   "source": []
  },
  {
   "cell_type": "code",
   "execution_count": null,
   "id": "c2f3a229",
   "metadata": {},
   "outputs": [],
   "source": []
  },
  {
   "cell_type": "code",
   "execution_count": null,
   "id": "4ee799e2",
   "metadata": {},
   "outputs": [],
   "source": []
  },
  {
   "cell_type": "code",
   "execution_count": null,
   "id": "e539d4fe",
   "metadata": {},
   "outputs": [],
   "source": []
  },
  {
   "cell_type": "code",
   "execution_count": null,
   "id": "d789a9d9",
   "metadata": {},
   "outputs": [],
   "source": []
  },
  {
   "cell_type": "code",
   "execution_count": null,
   "id": "77a0cb53",
   "metadata": {},
   "outputs": [],
   "source": []
  },
  {
   "cell_type": "code",
   "execution_count": null,
   "id": "dc51a622",
   "metadata": {},
   "outputs": [],
   "source": []
  },
  {
   "cell_type": "code",
   "execution_count": null,
   "id": "9fffa82f",
   "metadata": {},
   "outputs": [],
   "source": []
  },
  {
   "cell_type": "code",
   "execution_count": null,
   "id": "9c35ecad",
   "metadata": {},
   "outputs": [],
   "source": []
  },
  {
   "cell_type": "code",
   "execution_count": null,
   "id": "06b6603a",
   "metadata": {},
   "outputs": [],
   "source": []
  },
  {
   "cell_type": "code",
   "execution_count": null,
   "id": "790f429f",
   "metadata": {},
   "outputs": [],
   "source": []
  },
  {
   "cell_type": "code",
   "execution_count": null,
   "id": "eb88a765",
   "metadata": {},
   "outputs": [],
   "source": []
  }
 ],
 "metadata": {
  "kernelspec": {
   "display_name": "Python 3 (ipykernel)",
   "language": "python",
   "name": "python3"
  },
  "language_info": {
   "codemirror_mode": {
    "name": "ipython",
    "version": 3
   },
   "file_extension": ".py",
   "mimetype": "text/x-python",
   "name": "python",
   "nbconvert_exporter": "python",
   "pygments_lexer": "ipython3",
   "version": "3.9.13"
  }
 },
 "nbformat": 4,
 "nbformat_minor": 5
}
